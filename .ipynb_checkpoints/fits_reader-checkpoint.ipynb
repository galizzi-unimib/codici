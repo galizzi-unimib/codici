{
 "cells": [
  {
   "cell_type": "code",
   "execution_count": 1,
   "metadata": {},
   "outputs": [],
   "source": [
    "import matplotlib.pyplot as plt\n",
    "import numpy as np"
   ]
  },
  {
   "cell_type": "code",
   "execution_count": 19,
   "metadata": {},
   "outputs": [
    {
     "name": "stdout",
     "output_type": "stream",
     "text": [
      "<class 'str'>\n",
      "/madfs/data/dc-fuma1/MUSELLSDATA/J033900-013318/COMBINED_CUBE_bootvar_cubex.fits\n"
     ]
    }
   ],
   "source": [
    "path_to_data = '/madfs/data/dc-fuma1/MUSELLSDATA/'\n",
    "\n",
    "QSOlist = np.loadtxt('QSOlist.txt', dtype =str)\n",
    "J_dir = QSOlist[:,0]\n",
    "\n",
    "QSO_data_fits = np.zeros(28)\n",
    "\n",
    "\n",
    "for i in range(len(J_dir)):\n",
    "\n",
    "    QSO_data_fits[i] = fits.open(path_to_data + str(J_dir[i]) + '/COMBINED_CUBE_bootvar_cubex.fits' )"
   ]
  }
 ],
 "metadata": {
  "kernelspec": {
   "display_name": "Python 3",
   "language": "python",
   "name": "python3"
  },
  "language_info": {
   "codemirror_mode": {
    "name": "ipython",
    "version": 3
   },
   "file_extension": ".py",
   "mimetype": "text/x-python",
   "name": "python",
   "nbconvert_exporter": "python",
   "pygments_lexer": "ipython3",
   "version": "3.7.4"
  }
 },
 "nbformat": 4,
 "nbformat_minor": 2
}
